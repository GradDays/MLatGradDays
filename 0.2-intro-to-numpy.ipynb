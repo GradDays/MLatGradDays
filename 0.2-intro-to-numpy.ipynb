{
 "cells": [
  {
   "cell_type": "markdown",
   "metadata": {},
   "source": [
    "# Important python libraries\n",
    "\n",
    " - `numpy` (numerics) + `scipy` (scientific functions) \n",
    " - `matplotlib` - plotting\n",
    " - `astropy` - convenient operations on data for Data Science  (`pandas` is another alternative) \n",
    " - `scikit-learn` - machine learning\n",
    " \n",
    "We'll meet them very soon during the ML session."
   ]
  },
  {
   "cell_type": "markdown",
   "metadata": {},
   "source": [
    "## Hello numpy!\n",
    "\n",
    "`numpy` is the core of scientific python. It is the most convenient way to organize number-crunching in python."
   ]
  },
  {
   "cell_type": "code",
   "execution_count": 1,
   "metadata": {
    "collapsed": true
   },
   "outputs": [],
   "source": [
    "import numpy"
   ]
  },
  {
   "cell_type": "code",
   "execution_count": 2,
   "metadata": {
    "collapsed": false
   },
   "outputs": [
    {
     "data": {
      "text/plain": [
       "array([0, 1, 2, 3, 4, 5, 6, 7, 8, 9])"
      ]
     },
     "execution_count": 2,
     "metadata": {},
     "output_type": "execute_result"
    }
   ],
   "source": [
    "x = numpy.arange(10)\n",
    "x"
   ]
  },
  {
   "cell_type": "code",
   "execution_count": 3,
   "metadata": {
    "collapsed": false
   },
   "outputs": [
    {
     "data": {
      "text/plain": [
       "array([[0, 1],\n",
       "       [2, 3],\n",
       "       [4, 5],\n",
       "       [6, 7],\n",
       "       [8, 9]])"
      ]
     },
     "execution_count": 3,
     "metadata": {},
     "output_type": "execute_result"
    }
   ],
   "source": [
    "x.reshape(5, 2)"
   ]
  },
  {
   "cell_type": "code",
   "execution_count": 4,
   "metadata": {
    "collapsed": false
   },
   "outputs": [
    {
     "data": {
      "text/plain": [
       "array([[0, 1, 2, 3, 4],\n",
       "       [5, 6, 7, 8, 9]])"
      ]
     },
     "execution_count": 4,
     "metadata": {},
     "output_type": "execute_result"
    }
   ],
   "source": [
    "x.reshape(2, 5)"
   ]
  },
  {
   "cell_type": "code",
   "execution_count": 5,
   "metadata": {
    "collapsed": false
   },
   "outputs": [
    {
     "data": {
      "text/plain": [
       "array([0, 1, 2, 3])"
      ]
     },
     "execution_count": 5,
     "metadata": {},
     "output_type": "execute_result"
    }
   ],
   "source": [
    "# slicing has the same logic for lists / strings / tuples / numpy, etc\n",
    "x[:4]"
   ]
  },
  {
   "cell_type": "code",
   "execution_count": 6,
   "metadata": {
    "collapsed": false
   },
   "outputs": [
    {
     "name": "stdout",
     "output_type": "stream",
     "text": [
      "[0 1 2]\n",
      "[3 4 5 6]\n",
      "[7 8 9]\n"
     ]
    }
   ],
   "source": [
    "print x[:3]\n",
    "print x[3:7]\n",
    "print x[7:]"
   ]
  },
  {
   "cell_type": "markdown",
   "metadata": {},
   "source": [
    "### Vector operations"
   ]
  },
  {
   "cell_type": "code",
   "execution_count": 7,
   "metadata": {
    "collapsed": false
   },
   "outputs": [
    {
     "data": {
      "text/plain": [
       "array([  1.20000000e+01,   1.50000000e+01,   1.80000000e+01, ...,\n",
       "         3.00000300e+06,   3.00000600e+06,   3.00000900e+06])"
      ]
     },
     "execution_count": 7,
     "metadata": {},
     "output_type": "execute_result"
    }
   ],
   "source": [
    "x = numpy.arange(10 ** 6)\n",
    "# vector operations do similar task for each element. In this case each element is multiplied by 3 and 12 added.\n",
    "3 * x + 12."
   ]
  },
  {
   "cell_type": "code",
   "execution_count": 4,
   "metadata": {
    "collapsed": false
   },
   "outputs": [
    {
     "name": "stdout",
     "output_type": "stream",
     "text": [
      "The slowest run took 23.26 times longer than the fastest. This could mean that an intermediate result is being cached.\n",
      "100000 loops, best of 3: 2.76 µs per loop\n"
     ]
    }
   ],
   "source": [
    "# use timing magic to understand this is quite fast\n",
    "%timeit 3 * x + 12."
   ]
  },
  {
   "cell_type": "code",
   "execution_count": 11,
   "metadata": {
    "collapsed": false
   },
   "outputs": [
    {
     "data": {
      "text/plain": [
       "array([[ 0,  1,  2],\n",
       "       [ 3,  4,  5],\n",
       "       [ 6,  7,  8],\n",
       "       [ 9, 10, 11],\n",
       "       [12, 13, 14]])"
      ]
     },
     "execution_count": 11,
     "metadata": {},
     "output_type": "execute_result"
    }
   ],
   "source": [
    "Z = numpy.arange(15).reshape(5, 3)\n",
    "Z"
   ]
  },
  {
   "cell_type": "code",
   "execution_count": 17,
   "metadata": {
    "collapsed": false
   },
   "outputs": [
    {
     "data": {
      "text/plain": [
       "array([[  0.,   1.,   2.],\n",
       "       [  3.,   4.,   5.],\n",
       "       [  6.,   7.,   8.],\n",
       "       [  9.,  10.,  11.],\n",
       "       [ 12.,  13.,  14.]])"
      ]
     },
     "execution_count": 17,
     "metadata": {},
     "output_type": "execute_result"
    }
   ],
   "source": [
    "numpy.log(numpy.exp(Z)) # type conversion happened"
   ]
  },
  {
   "cell_type": "code",
   "execution_count": 11,
   "metadata": {
    "collapsed": true
   },
   "outputs": [],
   "source": [
    "Z += 4"
   ]
  },
  {
   "cell_type": "code",
   "execution_count": 12,
   "metadata": {
    "collapsed": false
   },
   "outputs": [
    {
     "data": {
      "text/plain": [
       "array([[ 4,  5,  6],\n",
       "       [ 7,  8,  9],\n",
       "       [10, 11, 12],\n",
       "       [13, 14, 15],\n",
       "       [16, 17, 18]])"
      ]
     },
     "execution_count": 12,
     "metadata": {},
     "output_type": "execute_result"
    }
   ],
   "source": [
    "Z"
   ]
  },
  {
   "cell_type": "code",
   "execution_count": 13,
   "metadata": {
    "collapsed": false
   },
   "outputs": [
    {
     "data": {
      "text/plain": [
       "array([[ 4,  5,  6],\n",
       "       [10, 11, 12],\n",
       "       [16, 17, 18]])"
      ]
     },
     "execution_count": 13,
     "metadata": {},
     "output_type": "execute_result"
    }
   ],
   "source": [
    "Z[::2, :]"
   ]
  },
  {
   "cell_type": "code",
   "execution_count": 14,
   "metadata": {
    "collapsed": false
   },
   "outputs": [
    {
     "data": {
      "text/plain": [
       "array([[ 4,  5,  6],\n",
       "       [10, 11, 12],\n",
       "       [16, 17, 18]])"
      ]
     },
     "execution_count": 14,
     "metadata": {},
     "output_type": "execute_result"
    }
   ],
   "source": [
    "Z[[0, 2, 4], :]"
   ]
  },
  {
   "cell_type": "code",
   "execution_count": 15,
   "metadata": {
    "collapsed": false
   },
   "outputs": [
    {
     "data": {
      "text/plain": [
       "array([15, 24, 33, 42, 51])"
      ]
     },
     "execution_count": 15,
     "metadata": {},
     "output_type": "execute_result"
    }
   ],
   "source": [
    "Z.sum(axis=1)"
   ]
  },
  {
   "cell_type": "code",
   "execution_count": 16,
   "metadata": {
    "collapsed": false
   },
   "outputs": [
    {
     "data": {
      "text/plain": [
       "array([50, 55, 60])"
      ]
     },
     "execution_count": 16,
     "metadata": {},
     "output_type": "execute_result"
    }
   ],
   "source": [
    "# axes are also zero-numerated\n",
    "Z.sum(axis=0)"
   ]
  },
  {
   "cell_type": "code",
   "execution_count": 17,
   "metadata": {
    "collapsed": false
   },
   "outputs": [
    {
     "data": {
      "text/plain": [
       "array([ 6,  9, 12, 15, 18])"
      ]
     },
     "execution_count": 17,
     "metadata": {},
     "output_type": "execute_result"
    }
   ],
   "source": [
    "Z.max(axis=1)"
   ]
  },
  {
   "cell_type": "code",
   "execution_count": 18,
   "metadata": {
    "collapsed": false
   },
   "outputs": [
    {
     "data": {
      "text/plain": [
       "array([[ -6,  -5,  -4],\n",
       "       [ -9,  -8,  -7],\n",
       "       [-12, -11, -10],\n",
       "       [-15, -14, -13],\n",
       "       [-18, -17, -16]])"
      ]
     },
     "execution_count": 18,
     "metadata": {},
     "output_type": "execute_result"
    }
   ],
   "source": [
    "Z2 = - Z\n",
    "Z2 = numpy.sort(Z2, axis=1)\n",
    "Z2"
   ]
  },
  {
   "cell_type": "markdown",
   "metadata": {},
   "source": [
    "## Indexing with boolean array"
   ]
  },
  {
   "cell_type": "code",
   "execution_count": 19,
   "metadata": {
    "collapsed": false
   },
   "outputs": [
    {
     "data": {
      "text/plain": [
       "array([0, 1, 2, 3, 4, 5, 6, 7, 8, 9])"
      ]
     },
     "execution_count": 19,
     "metadata": {},
     "output_type": "execute_result"
    }
   ],
   "source": [
    "x = numpy.arange(10)\n",
    "x"
   ]
  },
  {
   "cell_type": "code",
   "execution_count": 20,
   "metadata": {
    "collapsed": false
   },
   "outputs": [
    {
     "data": {
      "text/plain": [
       "array([False, False, False, False,  True,  True,  True,  True,  True,  True], dtype=bool)"
      ]
     },
     "execution_count": 20,
     "metadata": {},
     "output_type": "execute_result"
    }
   ],
   "source": [
    "x > 3"
   ]
  },
  {
   "cell_type": "code",
   "execution_count": 21,
   "metadata": {
    "collapsed": false
   },
   "outputs": [
    {
     "data": {
      "text/plain": [
       "array([0, 1, 2, 3, 4, 5, 6, 7])"
      ]
     },
     "execution_count": 21,
     "metadata": {},
     "output_type": "execute_result"
    }
   ],
   "source": [
    "x[x < 7.4]"
   ]
  },
  {
   "cell_type": "markdown",
   "metadata": {},
   "source": [
    "## Copies\n",
    "\n",
    "Many operations in numpy don't create copies, but operate with the same memory "
   ]
  },
  {
   "cell_type": "code",
   "execution_count": 22,
   "metadata": {
    "collapsed": false
   },
   "outputs": [
    {
     "name": "stdout",
     "output_type": "stream",
     "text": [
      "[0 1 2 3 4 5 6 7 8 9] [0 1 2 3 4]\n",
      "[10  1  2  3  4  5  6  7  8  9] [10  1  2  3  4]\n"
     ]
    }
   ],
   "source": [
    "x = numpy.arange(10)\n",
    "y = x[:5]\n",
    "\n",
    "print x, y\n",
    "y[0] = 10\n",
    "print x, y"
   ]
  },
  {
   "cell_type": "markdown",
   "metadata": {},
   "source": [
    "this happened because x and y point __to the same place in memory__"
   ]
  },
  {
   "cell_type": "code",
   "execution_count": 23,
   "metadata": {
    "collapsed": false
   },
   "outputs": [
    {
     "name": "stdout",
     "output_type": "stream",
     "text": [
      "[0 1 2 3 4 5 6 7 8 9] [0 1 2 3 4]\n",
      "[0 1 2 3 4 5 6 7 8 9] [10  1  2  3  4]\n"
     ]
    }
   ],
   "source": [
    "x = numpy.arange(10)\n",
    "y = x[:5].copy()\n",
    "print x, y\n",
    "y[0] = 10\n",
    "print x, y"
   ]
  },
  {
   "cell_type": "markdown",
   "metadata": {},
   "source": [
    "## Random numbers\n",
    "\n",
    "module `numpy.random` helps with generating random numbers"
   ]
  },
  {
   "cell_type": "code",
   "execution_count": 24,
   "metadata": {
    "collapsed": false
   },
   "outputs": [
    {
     "data": {
      "text/plain": [
       "array([ 11.78220635,   8.93663103, -17.50627085, ...,  17.10257018,\n",
       "         7.24243523,  -0.95099759])"
      ]
     },
     "execution_count": 24,
     "metadata": {},
     "output_type": "execute_result"
    }
   ],
   "source": [
    "# generating 10000 random numbers at once\n",
    "numpy.random.normal(loc=2, scale=12, size=10000)"
   ]
  },
  {
   "cell_type": "markdown",
   "metadata": {},
   "source": [
    "## Sorting"
   ]
  },
  {
   "cell_type": "code",
   "execution_count": 25,
   "metadata": {
    "collapsed": false
   },
   "outputs": [],
   "source": [
    "x = numpy.random.random(size=1000)\n",
    "x = numpy.sort(x)"
   ]
  },
  {
   "cell_type": "code",
   "execution_count": 26,
   "metadata": {
    "collapsed": false
   },
   "outputs": [
    {
     "name": "stdout",
     "output_type": "stream",
     "text": [
      "[ 0.00021619  0.00066141  0.0022386   0.00231872  0.00866861  0.00889664\n",
      "  0.01014405  0.01216177  0.01273415  0.01466487]\n",
      "[ 0.99120831  0.99250643  0.99419286  0.99490179  0.99550734  0.99653262\n",
      "  0.99681669  0.99848937  0.99872478  0.99887051]\n"
     ]
    }
   ],
   "source": [
    "print x[:10]\n",
    "print x[-10:]"
   ]
  },
  {
   "cell_type": "markdown",
   "metadata": {},
   "source": [
    "## Arg...\n",
    "\n",
    "arg-functions allow writing non-trivial operations with a couple of lines"
   ]
  },
  {
   "cell_type": "code",
   "execution_count": 18,
   "metadata": {
    "collapsed": false
   },
   "outputs": [
    {
     "name": "stdout",
     "output_type": "stream",
     "text": [
      "[  2 258 753  87 686 616 182 338 471 987 860 324 782 750 549 434 236 242\n",
      "  35 169 760 187 419 918 417 921 867 965 508 198 106 190 143 879 367 801\n",
      " 149 113  92 437 400 534   8 998 479 784 882 393 922 547 292 518 955 157\n",
      " 887 370 423 586 897  69 643 980 301 502 445 432  91 961 220  89 574 718\n",
      " 661 517 763 226 341 331 477 475  95  21 868 596 890 708 978 847 614 330\n",
      " 499 985 505 797 896 649 904 850 907 613 532 234 257 668 776 489 108 140\n",
      " 716 958 742 931 838 153 405 623 977 821 461 885 318 166 412 706 349 582\n",
      " 780 299 959 497 559  71 520 632 994 578 843 251 188 690 386 184 639 515\n",
      " 320 773  88 281 738 222 659 912 761 135 608 132 593 512 869 129 403 826\n",
      " 107 739 411 551 491 853 569 667 581 823 435 863 170   1 256 252 468 335\n",
      " 346 235 250  84 134 365 288 213 558  54  79 501  11 317 930 615 719 564\n",
      " 713 209 883 216 803 731 388 427 741 793 117 128 942 997 319 156 430 340\n",
      " 560  39 798 544 306  78 802 781 358 375 794  74 289 840 555 541 120 660\n",
      " 701 509 112 932 910 830 390 628 633 855 355 775 736 695 487 653 232 302\n",
      " 624 194 371 540 204 529 513 928 148 414 329 426 193 100 878 523 914 483\n",
      "  36 422 677 617 648 786 856 757 916 442 654 415 948 957 537 383 872  94\n",
      "   9 207 460 533 307 765  50 245 923  13 612 380 211 622 908  45 116 394\n",
      " 809 693 620 938 173 945 495 530 539 728 262  97  73 833 981 762 272 791\n",
      " 806 570 291 322 951 452 217 984 754 580 311 206 771 845 772 621 510 522\n",
      " 962 527 167 818 374 968 233 886 787 511 195 688 409 105 503  81 298 834\n",
      " 130  96 446 357 379 631 304 119 453 588 372 939 348 492  15 940 536 795\n",
      " 155 538 269 947 672 893 630 995 472 210 901 927 215 253 161 722 606 425\n",
      "  59 482 142 697 946 788 351 321 303 101 387 640 756 345 401 779 326 808\n",
      " 277 545  70 572  75 164 102 704 824 285 822 525 970 952 136 444 313 282\n",
      " 469 431 837 680 110 877 720 104 711 244 769 735  90 205 576 627 227 800\n",
      " 933 748 237 144 585 681 440 265 283 404 151 172 986 592 239 594 278 857\n",
      "  44 678 575 496  37 312  22  41 712 350 224 733 389 368 500  67 917  63\n",
      " 909 413 807   5 972 267 448 903 183 118 221 398 196 854 637 642 284 715\n",
      " 447 561 689 852 673 464  80 974 988  17 126 542 399 199 740 494 131 333\n",
      " 876   4 891 145 602 294 263 174 714 465 862 260 827 759 571  29  55 813\n",
      " 276 247 865 230 926 605  12 360 767 123 810 846 402 171 165 410 152 956\n",
      " 625 723 841  20 889 645 103 783  72  26 397 900 203 597 354 577 279  77\n",
      " 804 591 919 703 670 898 655 966 476 385 792 369 189  61 454 133 293 565\n",
      " 971 531 381 832 796 899 844  32 979 727  33 552 378 685 589 208 337 943\n",
      " 858 634 587 836  85 334 954 185  82 223 428 744 287  58  98  68 745 629\n",
      " 408  23 305 607 478 141 687 356 651 871 125 429  38 181 138 812  27 176\n",
      "  28 601 696 111 638 766  51 524 376 362 944 684 894 641 764 870 934 814\n",
      " 598 726 790 873 255 180  34 669 635 676 490 752 777 707 953 785 799 929\n",
      " 829 567 989  42 197 364 652 114 455 975 466 815 644  48 264 441 543 159\n",
      " 420 162 842 514 474  93 636 976 679 973 880 969  60 470 342 192 967 449\n",
      " 746 212  25 664 721  46 859  62 990  47 462 626 563 336 392 848 127 271\n",
      " 595 424 730 249 584 160 384 749 556 737 507  40 344 343 964  19  16 666\n",
      " 219 694 583 163 729 866 992 991 459 732 692 246 273 124 548 407 874 259\n",
      " 993 506 895 274  99 937 835 451 657 463 774 550 467  64  66 202  18 396\n",
      " 618 915 568 535 861 609  76 443  83 268 663 314  56 674 825 214 702 480\n",
      " 647 363 579 755 849 147 297 158 228 150 296 395 562 488 662 924 418 646\n",
      " 521 146  10 191 328 498 983 473 179 768 353 457 115  31 109 600 819 913\n",
      " 911 485 941 359  49 231 526 243 949 611 650 361 316 416 705 421 828  30\n",
      " 516 884 241 902 450 710 300 323 831   0 604 751 439 573 699 137  52  53\n",
      " 619 553 770 892 201 888 373 225 528 308 186 275 864 309 229 925 121 960\n",
      " 905  43 175 456 339 218 839 709 936   7 504 458 557 698 493 778 254 327\n",
      " 248 851 671 406 290 481 675 656  65 717 177 240 691 266 438 178 546 599\n",
      " 286 554 982 610 590 811 743 724 817   3 566   6 700 805 347  57 366 332\n",
      " 436 484 486 325 238 261 935 352 658 270 310 906 789 391 734 377 816 758\n",
      "  14 280 665 382 315 820 682 875 920 950 963 999 154 122  24 747 519 725\n",
      " 139 881 168 433 996  86 200 295 683 603]\n"
     ]
    }
   ],
   "source": [
    "# random.random generates uniform in [0, 1]\n",
    "random_numbers = numpy.random.random(size=1000)\n",
    "indices = numpy.argsort(random_numbers)\n",
    "print(indices)"
   ]
  },
  {
   "cell_type": "code",
   "execution_count": 28,
   "metadata": {
    "collapsed": false
   },
   "outputs": [
    {
     "data": {
      "text/plain": [
       "True"
      ]
     },
     "execution_count": 28,
     "metadata": {},
     "output_type": "execute_result"
    }
   ],
   "source": [
    "numpy.alltrue(random_numbers[indices] == numpy.sort(random_numbers))"
   ]
  },
  {
   "cell_type": "code",
   "execution_count": 29,
   "metadata": {
    "collapsed": false
   },
   "outputs": [
    {
     "data": {
      "text/plain": [
       "array([794,   2, 719, 257, 385, 486, 763, 772, 554, 559])"
      ]
     },
     "execution_count": 29,
     "metadata": {},
     "output_type": "execute_result"
    }
   ],
   "source": [
    "indices[:10]"
   ]
  },
  {
   "cell_type": "code",
   "execution_count": 30,
   "metadata": {
    "collapsed": false
   },
   "outputs": [
    {
     "data": {
      "text/plain": [
       "(0.0004961517756608691, 0.99889210024516806)"
      ]
     },
     "execution_count": 30,
     "metadata": {},
     "output_type": "execute_result"
    }
   ],
   "source": [
    "random_numbers.min(), random_numbers.max()"
   ]
  },
  {
   "cell_type": "code",
   "execution_count": 31,
   "metadata": {
    "collapsed": false
   },
   "outputs": [
    {
     "data": {
      "text/plain": [
       "(219, 0.99889210024516806)"
      ]
     },
     "execution_count": 31,
     "metadata": {},
     "output_type": "execute_result"
    }
   ],
   "source": [
    "random_numbers.argmax(), random_numbers[random_numbers.argmax()]"
   ]
  },
  {
   "cell_type": "code",
   "execution_count": 32,
   "metadata": {
    "collapsed": false
   },
   "outputs": [
    {
     "data": {
      "text/plain": [
       "(794, 0.0004961517756608691)"
      ]
     },
     "execution_count": 32,
     "metadata": {},
     "output_type": "execute_result"
    }
   ],
   "source": [
    "random_numbers.argmin(), random_numbers[random_numbers.argmin()]"
   ]
  },
  {
   "cell_type": "markdown",
   "metadata": {},
   "source": [
    "## Exercise"
   ]
  },
  {
   "cell_type": "code",
   "execution_count": 19,
   "metadata": {
    "collapsed": true
   },
   "outputs": [],
   "source": [
    "# 0. import numpy\n",
    "import numpy as np"
   ]
  },
  {
   "cell_type": "code",
   "execution_count": 22,
   "metadata": {
    "collapsed": false,
    "scrolled": true
   },
   "outputs": [],
   "source": [
    "# 1. sample 1000 elements from normal distribution \n",
    "randoms = numpy.random.normal(size=1000)"
   ]
  },
  {
   "cell_type": "code",
   "execution_count": 24,
   "metadata": {
    "collapsed": false
   },
   "outputs": [
    {
     "data": {
      "text/plain": [
       "array([ 0.24695829,  0.48101415,  0.92848437,  0.15255527,  0.56416802,\n",
       "        0.68540697,  2.2567756 ,  0.53095245,  0.94147656,  0.26112885,\n",
       "        0.30673373,  1.54968123,  1.02462386,  1.25821803,  0.12199264,\n",
       "        0.22445825,  0.50538239,  0.04581875,  2.18347911,  0.89605758,\n",
       "        1.34097015,  0.38048917,  0.99759762,  1.72485918,  0.34917694,\n",
       "        0.8176039 ,  0.41604474,  0.34592906,  1.3364683 ,  1.20032671,\n",
       "        1.89896368,  0.79350388,  0.12880059,  0.00999192,  0.62913883,\n",
       "        0.21834002,  1.11015997,  0.1044611 ,  1.08929949,  0.64450511,\n",
       "        1.40184608,  0.68940736,  0.28476806,  0.92026848,  0.62990837,\n",
       "        0.82637544,  0.83746358,  0.90156114,  0.80454512,  1.82197291,\n",
       "        0.26836023,  1.93511102,  0.97371773,  1.3927284 ,  0.80796658,\n",
       "        0.53937145,  1.85220072,  0.1766439 ,  1.44010694,  0.73461231,\n",
       "        0.95042409,  1.50302406,  1.16908554,  0.45173865,  1.16164782,\n",
       "        1.41076417,  1.03978833,  0.55980909,  0.16469978,  1.64897941,\n",
       "        1.10643249,  0.64162039,  0.59334146,  1.57524062,  0.11230167,\n",
       "        0.18230409,  0.97198208,  1.76876768,  0.00693735,  2.25443902,\n",
       "        1.30559991,  2.20280459,  0.06919526,  0.26507051,  0.19913155,\n",
       "        1.20015497,  0.22435958,  0.27767631,  0.89026971,  1.50657253,\n",
       "        2.00132245,  0.0885882 ,  0.81767363,  2.41363671,  2.91151914,\n",
       "        0.28538647,  1.9640398 ,  0.75772248,  1.01905208,  1.42357   ,\n",
       "        0.0364572 ,  1.19428411,  0.92487895,  0.13033353,  0.15868476,\n",
       "        0.07709243,  0.1976244 ,  0.40215278,  1.17694606,  1.08090949,\n",
       "        0.68741076,  2.48209893,  0.2860071 ,  1.3971217 ,  0.61767016,\n",
       "        0.32461411,  0.21857883,  2.5094829 ,  2.48886034,  1.03162339,\n",
       "        0.17149693,  0.83034942,  0.18540517,  0.90398886,  0.83468442,\n",
       "        0.30287246,  0.97907768,  0.42703776,  0.65113695,  0.65230381,\n",
       "        0.642477  ,  1.06976935,  0.63650577,  2.01096936,  0.12322118,\n",
       "        2.20181419,  2.83569453,  0.32009903,  0.3735219 ,  0.39016303,\n",
       "        0.69867289,  0.40631809,  0.04665657,  0.22301093,  0.93506569,\n",
       "        1.67498175,  0.41139638,  0.56123714,  0.20115958,  0.77145545,\n",
       "        0.50485229,  0.24374205,  0.12481354,  0.53642674,  2.41973567,\n",
       "        2.09248418,  0.30497163,  0.38738135,  0.2042049 ,  1.62689344,\n",
       "        0.5019447 ,  0.728041  ,  2.37279534,  0.04471542,  0.58525137,\n",
       "        0.73073326,  1.42143703,  0.61210227,  0.65505479,  1.16643466,\n",
       "        0.17598453,  1.3664269 ,  1.06259919,  0.05305604,  0.83048031,\n",
       "        1.1782339 ,  0.07110662,  0.97566494,  0.6869324 ,  2.35714275,\n",
       "        2.02191286,  1.85289028,  1.35030029,  1.2887515 ,  1.04079463,\n",
       "        0.22273377,  1.07577614,  0.12314632,  1.11653347,  0.7780639 ,\n",
       "        0.90773754,  1.7140852 ,  0.31699008,  0.13269373,  0.61365233,\n",
       "        1.30488031,  0.23534355,  0.42968445,  0.22378308,  0.35811627,\n",
       "        0.09011217,  2.1213493 ,  0.256387  ,  0.14275084,  1.22371373,\n",
       "        0.62591691,  1.0961148 ,  0.20285989,  0.67463998,  0.56810868,\n",
       "        1.44141171,  1.08388147,  2.70483047,  1.15828156,  0.86353602,\n",
       "        1.18573163,  0.75212627,  1.63644644,  1.74572913,  0.90890155,\n",
       "        0.8149913 ,  0.64545911,  0.95224945,  0.48520869,  0.00983325,\n",
       "        0.89925894,  0.06202037,  0.82720931,  1.23027713,  1.68963647,\n",
       "        0.03300219,  0.88752541,  0.51200624,  1.39891228,  1.61222485,\n",
       "        0.7700934 ,  0.69363111,  0.09751628,  0.57794149,  0.05076402,\n",
       "        0.08479149,  0.45584446,  0.28926277,  0.95523201,  0.93597234,\n",
       "        1.58028516,  0.7180879 ,  1.26873572,  1.71563643,  0.08887546,\n",
       "        0.67790142,  0.62133864,  1.7325367 ,  0.800856  ,  0.77130435,\n",
       "        1.40065376,  0.14951576,  0.95732536,  0.45098714,  0.99137876,\n",
       "        1.11460753,  0.83455206,  0.52379644,  1.0103967 ,  0.25523595,\n",
       "        0.14309759,  1.17605807,  2.17072537,  0.10776459,  0.24678997,\n",
       "        0.1724533 ,  0.98622114,  0.89362799,  0.09245835,  1.28293852,\n",
       "        1.99192828,  0.49736414,  0.22382715,  1.59089492,  1.82680886,\n",
       "        0.30765078,  0.89501313,  0.08013617,  2.34150632,  1.2024708 ,\n",
       "        0.66472571,  0.19519162,  0.84745322,  0.38546724,  0.12998111,\n",
       "        1.23465032,  0.34366876,  0.50873657,  0.82536505,  1.50709846,\n",
       "        1.05049986,  0.64572736,  0.72169746,  0.50960629,  0.32793766,\n",
       "        0.28674245,  0.99611742,  0.72485665,  1.29855807,  1.34418912,\n",
       "        0.77461776,  0.13784348,  0.40203268,  0.1682605 ,  1.01487477,\n",
       "        0.85797747,  0.7227751 ,  0.66802636,  1.40348057,  0.26211837,\n",
       "        0.90697997,  1.42327526,  0.62338278,  0.71649803,  1.3625671 ,\n",
       "        1.3732694 ,  2.0622074 ,  0.19477084,  0.3579242 ,  0.0784971 ,\n",
       "        0.58218518,  1.76524288,  0.04677881,  0.7692974 ,  0.66240199,\n",
       "        1.25104556,  0.49149644,  1.25792853,  0.83255036,  0.13178008,\n",
       "        0.98996813,  0.31311502,  1.28700297,  0.62504251,  0.12164155,\n",
       "        1.30442013,  0.68306364,  1.36319824,  1.08179741,  0.38469192,\n",
       "        0.56575612,  0.34359354,  0.6235171 ,  0.06525869,  0.73047036,\n",
       "        0.74430073,  0.02086007,  1.14311322,  0.02550133,  0.83873718,\n",
       "        0.77452513,  0.14939091,  2.03531263,  1.51913641,  0.26841367,\n",
       "        0.47443583,  0.33538453,  0.30419005,  1.12222494,  1.87372389,\n",
       "        0.09538272,  1.31214567,  0.46405391,  0.54956441,  0.25401935,\n",
       "        1.59571311,  0.00763948,  1.55470676,  0.7561667 ,  0.38329134,\n",
       "        1.76955998,  0.60079797,  0.14661074,  2.13994047,  0.58798166,\n",
       "        0.88278361,  1.75036407,  1.05987635,  0.86422976,  0.17050102,\n",
       "        1.82025662,  1.92716672,  0.55613449,  1.45242568,  0.70279911,\n",
       "        0.48938891,  0.30472424,  0.16911262,  0.0065736 ,  0.08887578,\n",
       "        0.22194935,  1.4355321 ,  2.24397936,  1.94583058,  0.7956575 ,\n",
       "        1.09090022,  0.46664172,  0.04374961,  2.14082334,  0.88381477,\n",
       "        1.16077972,  0.60522843,  1.33896887,  0.33501878,  0.05402548,\n",
       "        1.38591182,  1.29158427,  0.9482481 ,  0.59870906,  0.07971047,\n",
       "        0.98514312,  0.75930473,  1.58158917,  0.40063805,  1.38846299,\n",
       "        1.00078862,  0.89028179,  1.3495193 ,  0.60394744,  1.40069362,\n",
       "        0.94036288,  0.14389046,  0.96442589,  0.15365397,  0.71191834,\n",
       "        0.02998301,  1.424626  ,  0.08827635,  0.22685155,  1.68396646,\n",
       "        1.08066037,  0.38320542,  0.24135094,  0.46690019,  0.33656503,\n",
       "        0.2506617 ,  0.22471777,  1.2899185 ,  0.04028431,  0.70052114,\n",
       "        0.43950937,  0.23487209,  1.19497831,  0.50085829,  0.35548047,\n",
       "        1.1897495 ,  1.11259942,  2.41950213,  1.29263855,  0.67829939,\n",
       "        1.85930756,  0.3167108 ,  0.13563787,  0.13204891,  0.12462092,\n",
       "        0.61561521,  0.03352072,  0.85975955,  0.53023662,  0.58022252,\n",
       "        0.19084115,  0.50786571,  1.24429617,  1.27972804,  0.17628218,\n",
       "        0.10088401,  1.1871209 ,  0.5997515 ,  0.94759536,  0.26488583,\n",
       "        1.79744298,  1.26647395,  1.20126298,  0.86508649,  0.3238478 ,\n",
       "        1.05481417,  0.05283178,  0.3435797 ,  0.78434299,  1.19684645,\n",
       "        0.92399016,  0.75477672,  0.57000383,  0.74152038,  0.44645169,\n",
       "        0.57558176,  0.08391955,  0.18129377,  0.51261136])"
      ]
     },
     "execution_count": 24,
     "metadata": {},
     "output_type": "execute_result"
    }
   ],
   "source": [
    "# 2. leave only positive numbers (from previous exercise)\n",
    "pos_randoms = randoms[randoms > 0]\n",
    "pos_randoms"
   ]
  },
  {
   "cell_type": "code",
   "execution_count": 25,
   "metadata": {
    "collapsed": false
   },
   "outputs": [
    {
     "name": "stdout",
     "output_type": "stream",
     "text": [
      "Left numbers: 506\n",
      "Min: -3.52714261539\n",
      "Max: -0.00125959683035\n",
      "Mean: -0.82235377202\n",
      "Var: 0.388022230119\n"
     ]
    }
   ],
   "source": [
    "# 3. count number of left numbers, their minimum, maximum, mean and variance.\n",
    "neg_randoms = randoms[randoms < 0]\n",
    "print(\"Left numbers: {}\".format(len(neg_randoms)))\n",
    "print(\"Min: {}\".format(neg_randoms.min()))\n",
    "print(\"Max: {}\".format(neg_randoms.max()))\n",
    "print(\"Mean: {}\".format(neg_randoms.mean()))\n",
    "print(\"Var: {}\".format(neg_randoms.var()))"
   ]
  },
  {
   "cell_type": "markdown",
   "metadata": {},
   "source": [
    "## References:\n",
    "* `numpy` documentation: https://docs.scipy.org/doc/numpy/reference/\n",
    "    * almost any question about `numpy` is already answered on stackoverflow\n",
    "* [From python to numpy: a beautiful book about numpy](https://github.com/rougier/from-python-to-numpy)\n",
    "* Data manipulation with `numpy`: tips and tricks [part1](http://arogozhnikov.github.io/2015/09/29/NumpyTipsAndTricks1.html), [part2](http://arogozhnikov.github.io/2015/09/30/NumpyTipsAndTricks2.html)\n"
   ]
  }
 ],
 "metadata": {
  "kernelspec": {
   "display_name": "Python 2",
   "language": "python",
   "name": "python2"
  },
  "language_info": {
   "codemirror_mode": {
    "name": "ipython",
    "version": 2
   },
   "file_extension": ".py",
   "mimetype": "text/x-python",
   "name": "python",
   "nbconvert_exporter": "python",
   "pygments_lexer": "ipython2",
   "version": "2.7.12"
  }
 },
 "nbformat": 4,
 "nbformat_minor": 0
}
